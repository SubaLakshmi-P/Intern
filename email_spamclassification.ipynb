{
  "nbformat": 4,
  "nbformat_minor": 0,
  "metadata": {
    "colab": {
      "provenance": []
    },
    "kernelspec": {
      "name": "python3",
      "display_name": "Python 3"
    },
    "language_info": {
      "name": "python"
    }
  },
  "cells": [
    {
      "cell_type": "code",
      "execution_count": null,
      "metadata": {
        "id": "CckKWKBRKJQO",
        "colab": {
          "base_uri": "https://localhost:8080/"
        },
        "outputId": "c78e6633-cf34-41e4-8e86-8becf38ae419"
      },
      "outputs": [
        {
          "output_type": "stream",
          "name": "stdout",
          "text": [
            "Accuracy: 1.0\n",
            "\n",
            "Classification Report:\n",
            "              precision    recall  f1-score   support\n",
            "\n",
            "    Non-Spam       1.00      1.00      1.00         1\n",
            "        Spam       1.00      1.00      1.00         1\n",
            "\n",
            "    accuracy                           1.00         2\n",
            "   macro avg       1.00      1.00      1.00         2\n",
            "weighted avg       1.00      1.00      1.00         2\n",
            "\n"
          ]
        }
      ],
      "source": [
        "import numpy as np\n",
        "from sklearn.model_selection import train_test_split\n",
        "from sklearn.feature_extraction.text import CountVectorizer\n",
        "from sklearn.naive_bayes import MultinomialNB\n",
        "from sklearn.metrics import accuracy_score, classification_report\n",
        "\n",
        "# Sample data - replace this with your dataset\n",
        "emails = [\n",
        "    (\"Hey, this is Alice from XYZ Corp.\", 0),  # 0 for non-spam\n",
        "    (\"Get rich quick! Make $$$ in minutes!!!\", 1),  # 1 for spam\n",
        "    (\"Meeting scheduled for tomorrow.\", 0),\n",
        "    (\"Congratulations! You've won a lottery!\", 1),\n",
        "    (\"Limited time offer! Buy now and get 50% off!\", 1),\n",
        "    (\"Reminder: Project deadline is approaching.\", 0)\n",
        "]\n",
        "\n",
        "# Splitting data into features and labels\n",
        "X, y = zip(*emails)\n",
        "\n",
        "# Vectorizing the emails\n",
        "vectorizer = CountVectorizer()\n",
        "X_vectorized = vectorizer.fit_transform(X)\n",
        "\n",
        "# Splitting data into training and testing sets\n",
        "X_train, X_test, y_train, y_test = train_test_split(X_vectorized, y, test_size=0.2, random_state=42)\n",
        "\n",
        "# Training the Naive Bayes classifier\n",
        "classifier = MultinomialNB()\n",
        "classifier.fit(X_train, y_train)\n",
        "\n",
        "# Predicting on the test set\n",
        "y_pred = classifier.predict(X_test)\n",
        "\n",
        "# Evaluating the model\n",
        "accuracy = accuracy_score(y_test, y_pred)\n",
        "print(\"Accuracy:\", accuracy)\n",
        "print(\"\\nClassification Report:\")\n",
        "print(classification_report(y_test, y_pred, target_names=[\"Non-Spam\", \"Spam\"]))"
      ]
    }
  ]
}